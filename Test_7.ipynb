{
  "nbformat": 4,
  "nbformat_minor": 0,
  "metadata": {
    "colab": {
      "provenance": [],
      "authorship_tag": "ABX9TyMwIo4G5e8O2Rh+3j6QY47T",
      "include_colab_link": true
    },
    "kernelspec": {
      "name": "python3",
      "display_name": "Python 3"
    },
    "language_info": {
      "name": "python"
    }
  },
  "cells": [
    {
      "cell_type": "markdown",
      "metadata": {
        "id": "view-in-github",
        "colab_type": "text"
      },
      "source": [
        "<a href=\"https://colab.research.google.com/github/Jhansivanjarapu/Basic-python-codes/blob/main/Test_7.ipynb\" target=\"_parent\"><img src=\"https://colab.research.google.com/assets/colab-badge.svg\" alt=\"Open In Colab\"/></a>"
      ]
    },
    {
      "cell_type": "code",
      "execution_count": null,
      "metadata": {
        "colab": {
          "base_uri": "https://localhost:8080/"
        },
        "id": "TnGRToeQUFZG",
        "outputId": "9d77a6b0-045b-418b-a506-4b167ba54672"
      },
      "outputs": [
        {
          "output_type": "stream",
          "name": "stdout",
          "text": [
            "Enter an integer:9\n",
            "Factors are:\n",
            "3\n"
          ]
        }
      ],
      "source": [
        "n=int(input(\"Enter an integer:\"))\n",
        "print(\"Factors are:\")\n",
        "i=1\n",
        "while(i<=n):\n",
        "    k=0\n",
        "    if(n%i==0):\n",
        "        j=1\n",
        "        while(j<=i):\n",
        "            if(i%j==0):\n",
        "                k=k+1\n",
        "            j=j+1\n",
        "        if(k==2):\n",
        "            print(i)\n",
        "    i=i+1"
      ]
    },
    {
      "cell_type": "code",
      "source": [
        "n=int(input(\"Enter an integer:\"))\n",
        "print(\"Factors are:\")\n",
        "i=1\n",
        "while(i<=n):\n",
        "    k=0\n",
        "    if(n%i==0):\n",
        "        j=1\n",
        "        while(j<=i):\n",
        "            if(i%j==0):\n",
        "                k=k+1\n",
        "            j=j+1\n",
        "        if(k==2):\n",
        "            print(i)\n",
        "    i=i+1"
      ],
      "metadata": {
        "colab": {
          "base_uri": "https://localhost:8080/"
        },
        "id": "VG64quvyVqgZ",
        "outputId": "775292da-a303-48b5-e941-43920fcebd09"
      },
      "execution_count": null,
      "outputs": [
        {
          "output_type": "stream",
          "name": "stdout",
          "text": [
            "Enter an integer:25\n",
            "Factors are:\n",
            "5\n"
          ]
        }
      ]
    }
  ]
}