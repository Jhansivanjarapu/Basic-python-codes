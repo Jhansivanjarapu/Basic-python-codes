{
  "nbformat": 4,
  "nbformat_minor": 0,
  "metadata": {
    "colab": {
      "provenance": [],
      "authorship_tag": "ABX9TyNLNnYQ6CiV8VmE1xUJNNRs",
      "include_colab_link": true
    },
    "kernelspec": {
      "name": "python3",
      "display_name": "Python 3"
    },
    "language_info": {
      "name": "python"
    }
  },
  "cells": [
    {
      "cell_type": "markdown",
      "metadata": {
        "id": "view-in-github",
        "colab_type": "text"
      },
      "source": [
        "<a href=\"https://colab.research.google.com/github/Jhansivanjarapu/Basic-python-codes/blob/main/Test_14.ipynb\" target=\"_parent\"><img src=\"https://colab.research.google.com/assets/colab-badge.svg\" alt=\"Open In Colab\"/></a>"
      ]
    },
    {
      "cell_type": "code",
      "source": [
        "decimal = 148\n",
        "octal = []\n",
        "while decimal > 0:\n",
        "    r = decimal % 8\n",
        "    octal.append(r)\n",
        "    decimal = decimal // 8\n",
        "for i in reversed(octal):\n",
        "    print(i, end=\"\")"
      ],
      "metadata": {
        "colab": {
          "base_uri": "https://localhost:8080/"
        },
        "id": "s0NuzISIEO2B",
        "outputId": "da85c3ea-e3fe-4f1f-fe92-f5f0dcb37c87"
      },
      "execution_count": null,
      "outputs": [
        {
          "output_type": "stream",
          "name": "stdout",
          "text": [
            "224"
          ]
        }
      ]
    },
    {
      "cell_type": "code",
      "source": [
        "decimal = 6\n",
        "octal = 0\n",
        "count = 1\n",
        "\n",
        "while decimal > 0:\n",
        "    r = decimal % 8\n",
        "    octal += r * count\n",
        "    count *= 10\n",
        "    decimal = decimal // 8\n",
        "\n",
        "print(octal)"
      ],
      "metadata": {
        "colab": {
          "base_uri": "https://localhost:8080/"
        },
        "id": "a1Yyulm-ElVa",
        "outputId": "e56d46d3-b527-4deb-ce35-63037ed28c7a"
      },
      "execution_count": null,
      "outputs": [
        {
          "output_type": "stream",
          "name": "stdout",
          "text": [
            "6\n"
          ]
        }
      ]
    }
  ]
}