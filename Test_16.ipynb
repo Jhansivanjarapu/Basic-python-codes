{
  "nbformat": 4,
  "nbformat_minor": 0,
  "metadata": {
    "colab": {
      "provenance": [],
      "authorship_tag": "ABX9TyPky33c3sAutrkDTSIOt4ot",
      "include_colab_link": true
    },
    "kernelspec": {
      "name": "python3",
      "display_name": "Python 3"
    },
    "language_info": {
      "name": "python"
    }
  },
  "cells": [
    {
      "cell_type": "markdown",
      "metadata": {
        "id": "view-in-github",
        "colab_type": "text"
      },
      "source": [
        "<a href=\"https://colab.research.google.com/github/Jhansivanjarapu/Basic-python-codes/blob/main/Test_16.ipynb\" target=\"_parent\"><img src=\"https://colab.research.google.com/assets/colab-badge.svg\" alt=\"Open In Colab\"/></a>"
      ]
    },
    {
      "cell_type": "code",
      "execution_count": null,
      "metadata": {
        "colab": {
          "base_uri": "https://localhost:8080/"
        },
        "id": "mRAscjTvgwjm",
        "outputId": "1a735952-e66e-4438-e8e2-912e387a57a9"
      },
      "outputs": [
        {
          "output_type": "stream",
          "name": "stdout",
          "text": [
            "Enter the amount: 1200\n",
            "Enter the number of years: 5\n",
            "Enter the rate of interest: 10\n",
            "The simple interset is: 600.0\n"
          ]
        }
      ],
      "source": [
        "Amount = int(input(\"Enter the amount: \"))\n",
        "Year = int(input(\"Enter the number of years: \"))\n",
        "Rate = float(input(\"Enter the rate of interest: \"))\n",
        "SimpleInterset = (Amount*Year*Rate)/100\n",
        "print(\"The simple interset is:\", SimpleInterset)"
      ]
    }
  ]
}