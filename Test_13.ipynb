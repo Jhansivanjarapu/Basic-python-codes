{
  "nbformat": 4,
  "nbformat_minor": 0,
  "metadata": {
    "colab": {
      "provenance": [],
      "authorship_tag": "ABX9TyMti8RCd1AYTvT0c7u225bA",
      "include_colab_link": true
    },
    "kernelspec": {
      "name": "python3",
      "display_name": "Python 3"
    },
    "language_info": {
      "name": "python"
    }
  },
  "cells": [
    {
      "cell_type": "markdown",
      "metadata": {
        "id": "view-in-github",
        "colab_type": "text"
      },
      "source": [
        "<a href=\"https://colab.research.google.com/github/Jhansivanjarapu/Basic-python-codes/blob/main/Test_13.ipynb\" target=\"_parent\"><img src=\"https://colab.research.google.com/assets/colab-badge.svg\" alt=\"Open In Colab\"/></a>"
      ]
    },
    {
      "cell_type": "code",
      "execution_count": null,
      "metadata": {
        "colab": {
          "base_uri": "https://localhost:8080/"
        },
        "id": "FkmMJEAPMkVE",
        "outputId": "9e41c3e2-09fb-4c41-c649-1eb598aaa250"
      },
      "outputs": [
        {
          "output_type": "stream",
          "name": "stdout",
          "text": [
            "Enter first number: 10\n",
            "Enter second number: 12\n",
            "The HCF of 10 and 12 is 2\n"
          ]
        }
      ],
      "source": [
        "def find_hcf(x, y):\n",
        "    while y != 0:\n",
        "        x, y = y, x % y\n",
        "    return x\n",
        "num1 = int(input(\"Enter first number: \"))\n",
        "num2 = int(input(\"Enter second number: \"))\n",
        "hcf = find_hcf(num1, num2)\n",
        "print(\"The HCF of\", num1, \"and\", num2, \"is\", hcf)"
      ]
    }
  ]
}