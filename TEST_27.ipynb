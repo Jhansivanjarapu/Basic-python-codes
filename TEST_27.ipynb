{
  "nbformat": 4,
  "nbformat_minor": 0,
  "metadata": {
    "colab": {
      "provenance": [],
      "authorship_tag": "ABX9TyP7DxkLEKus3XcnQbKA9/J4",
      "include_colab_link": true
    },
    "kernelspec": {
      "name": "python3",
      "display_name": "Python 3"
    },
    "language_info": {
      "name": "python"
    }
  },
  "cells": [
    {
      "cell_type": "markdown",
      "metadata": {
        "id": "view-in-github",
        "colab_type": "text"
      },
      "source": [
        "<a href=\"https://colab.research.google.com/github/Jhansivanjarapu/Basic-python-codes/blob/main/TEST_27.ipynb\" target=\"_parent\"><img src=\"https://colab.research.google.com/assets/colab-badge.svg\" alt=\"Open In Colab\"/></a>"
      ]
    },
    {
      "cell_type": "code",
      "execution_count": null,
      "metadata": {
        "colab": {
          "base_uri": "https://localhost:8080/"
        },
        "id": "8wJLpFqn2Por",
        "outputId": "ca987ec1-0d0c-4558-954a-eb5c53fb1a33"
      },
      "outputs": [
        {
          "output_type": "stream",
          "name": "stdout",
          "text": [
            "Highest frequency element: 5\n"
          ]
        }
      ],
      "source": [
        "arr = [1, 2, 3, 4, 5, 6, 5, 4, 5, 1, 2, 3, 4, 5, 6, 5, 4, 5]\n",
        "freq_dict = {}\n",
        "for element in arr:\n",
        "    if element in freq_dict:\n",
        "        freq_dict[element] += 1\n",
        "    else:\n",
        "        freq_dict[element] = 1\n",
        "highest_freq_element = max(freq_dict, key=freq_dict.get)\n",
        "print(\"Highest frequency element:\", highest_freq_element)"
      ]
    }
  ]
}