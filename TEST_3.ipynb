{
  "nbformat": 4,
  "nbformat_minor": 0,
  "metadata": {
    "colab": {
      "provenance": [],
      "authorship_tag": "ABX9TyPrh7/ShmWuVSD40o3gWDxz",
      "include_colab_link": true
    },
    "kernelspec": {
      "name": "python3",
      "display_name": "Python 3"
    },
    "language_info": {
      "name": "python"
    }
  },
  "cells": [
    {
      "cell_type": "markdown",
      "metadata": {
        "id": "view-in-github",
        "colab_type": "text"
      },
      "source": [
        "<a href=\"https://colab.research.google.com/github/Jhansivanjarapu/Basic-python-codes/blob/main/TEST_3.ipynb\" target=\"_parent\"><img src=\"https://colab.research.google.com/assets/colab-badge.svg\" alt=\"Open In Colab\"/></a>"
      ]
    },
    {
      "cell_type": "code",
      "source": [
        "def is_armstrong_number(number):\n",
        "    # Convert the number to a string to calculate the number of digits\n",
        "    num_str = str(number)\n",
        "    num_digits = len(num_str)\n",
        "\n",
        "    # Initialize a variable to store the sum of digits raised to the power of the number of digits\n",
        "    sum_of_digits = 0\n",
        "\n",
        "    # Calculate the sum of digits raised to the power of the number of digits\n",
        "    for digit in num_str:\n",
        "        sum_of_digits += int(digit) ** num_digits\n",
        "\n",
        "    # Check if the sum is equal to the original number\n",
        "    if sum_of_digits == number:\n",
        "        return \"Yes\"\n",
        "    else:\n",
        "        return \"No\"\n",
        "\n",
        "# Input from the user\n",
        "number = int(input(\"Enter a number: \"))\n",
        "\n",
        "# Check if the number is an Armstrong number\n",
        "result = is_armstrong_number(number)\n",
        "\n",
        "# Display the result\n",
        "print(f\"{number} is an Armstrong number: {result}\")"
      ],
      "metadata": {
        "colab": {
          "base_uri": "https://localhost:8080/"
        },
        "id": "Xg0Pcy8nVnz9",
        "outputId": "bbc4cc14-36c8-4f4b-f906-d88fa8418dd7"
      },
      "execution_count": null,
      "outputs": [
        {
          "output_type": "stream",
          "name": "stdout",
          "text": [
            "Enter a number: 153\n",
            "153 is an Armstrong number: Yes\n"
          ]
        }
      ]
    },
    {
      "cell_type": "code",
      "source": [
        "def is_armstrong_number(number):\n",
        "    # Convert the number to a string to calculate the number of digits\n",
        "    num_str = str(number)\n",
        "    num_digits = len(num_str)\n",
        "\n",
        "    # Initialize a variable to store the sum of digits raised to the power of the number of digits\n",
        "    sum_of_digits = 0\n",
        "\n",
        "    # Calculate the sum of digits raised to the power of the number of digits\n",
        "    for digit in num_str:\n",
        "        sum_of_digits += int(digit) ** num_digits\n",
        "\n",
        "    # Check if the sum is equal to the original number\n",
        "    if sum_of_digits == number:\n",
        "        return \"Yes\"\n",
        "    else:\n",
        "        return \"No\"\n",
        "\n",
        "# Input from the user\n",
        "number = int(input(\"Enter a number: \"))\n",
        "\n",
        "# Check if the number is an Armstrong number\n",
        "result = is_armstrong_number(number)\n",
        "\n",
        "# Display the result\n",
        "print(f\"{number} is an Armstrong number: {result}\")"
      ],
      "metadata": {
        "colab": {
          "base_uri": "https://localhost:8080/"
        },
        "id": "IkhWcvlcVxbP",
        "outputId": "01fb38ab-ac1d-4705-ba61-1df4bb7ba7c0"
      },
      "execution_count": null,
      "outputs": [
        {
          "output_type": "stream",
          "name": "stdout",
          "text": [
            "Enter a number: 120\n",
            "120 is an Armstrong number: No\n"
          ]
        }
      ]
    },
    {
      "cell_type": "code",
      "source": [
        "num = int(input('Enter the three digit number to be checked for Armstrong: '))\n",
        "t = num\n",
        "cube_sum = 0\n",
        "\n",
        "while t!= 0:\n",
        "    k = t % 10\n",
        "    cube_sum += k**3\n",
        "    t = t//10\n",
        "if cube_sum == num:\n",
        "    print(num, ' is an Armstrong Number')\n",
        "else:\n",
        "                 print(num, 'is not a Armstrong Number')"
      ],
      "metadata": {
        "id": "-ey0L1wqrcR5",
        "outputId": "7d93d251-b9e1-41bb-c93f-9c874c10717d",
        "colab": {
          "base_uri": "https://localhost:8080/"
        }
      },
      "execution_count": null,
      "outputs": [
        {
          "output_type": "stream",
          "name": "stdout",
          "text": [
            "Enter the three digit number to be checked for Armstrong: 333\n",
            "333 is not a Armstrong Number\n"
          ]
        }
      ]
    },
    {
      "cell_type": "code",
      "source": [
        "\n",
        "num = int(input(\"Enter 3-digit number : \"))\n",
        "\n",
        "sum = 0\n",
        "temp = num\n",
        "while temp > 0:\n",
        "    digit = temp % 10\n",
        "    sum += digit * digit * digit\n",
        "    temp = temp//10\n",
        "\n",
        "if sum==num:\n",
        "    print('It is an Armstrong number')\n",
        "else:\n",
        "    print('It is not an Armstrong number')\n",
        "\n",
        "\n"
      ],
      "metadata": {
        "colab": {
          "base_uri": "https://localhost:8080/"
        },
        "id": "kpceT-cfu5eU",
        "outputId": "5d39014d-feb3-4340-eb9f-44a6a57e421d"
      },
      "execution_count": null,
      "outputs": [
        {
          "output_type": "stream",
          "name": "stdout",
          "text": [
            "Enter 3-digit number : 353\n",
            "It is not an Armstrong number\n"
          ]
        }
      ]
    }
  ]
}