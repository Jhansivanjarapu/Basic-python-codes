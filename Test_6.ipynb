{
  "nbformat": 4,
  "nbformat_minor": 0,
  "metadata": {
    "colab": {
      "provenance": [],
      "authorship_tag": "ABX9TyNEzWz/cuxdiSsD2gDwVWbq",
      "include_colab_link": true
    },
    "kernelspec": {
      "name": "python3",
      "display_name": "Python 3"
    },
    "language_info": {
      "name": "python"
    }
  },
  "cells": [
    {
      "cell_type": "markdown",
      "metadata": {
        "id": "view-in-github",
        "colab_type": "text"
      },
      "source": [
        "<a href=\"https://colab.research.google.com/github/Jhansivanjarapu/Basic-python-codes/blob/main/Test_6.ipynb\" target=\"_parent\"><img src=\"https://colab.research.google.com/assets/colab-badge.svg\" alt=\"Open In Colab\"/></a>"
      ]
    },
    {
      "cell_type": "code",
      "execution_count": null,
      "metadata": {
        "id": "s8krDSK20-mu",
        "colab": {
          "base_uri": "https://localhost:8080/"
        },
        "outputId": "ad0cea10-9d33-4b80-f7ce-bb9aa2fd97f1"
      },
      "outputs": [
        {
          "output_type": "stream",
          "name": "stdout",
          "text": [
            "please give a number : 7\n",
            "num is not binary\n"
          ]
        }
      ],
      "source": [
        "num = int(input(\"please give a number : \"))\n",
        "while(num>0):\n",
        "    j=num%10\n",
        "    if j!=0 and j!=1:\n",
        "        print(\"num is not binary\")\n",
        "        break\n",
        "    num=num//10\n",
        "    if num==0:\n",
        "        print(\"num is binary\")"
      ]
    },
    {
      "cell_type": "code",
      "source": [
        "num = int(input(\"please give a number : \"))\n",
        "while(num>0):\n",
        "    j=num%10\n",
        "    if j!=0 and j!=1:\n",
        "        print(\"num is not binary\")\n",
        "        break\n",
        "    num=num//10\n",
        "    if num==0:\n",
        "        print(\"num is binary\")"
      ],
      "metadata": {
        "colab": {
          "base_uri": "https://localhost:8080/"
        },
        "id": "L0Rgdpl_dpKh",
        "outputId": "0d1eb1fe-83e6-42c1-b210-76128a0d60d2"
      },
      "execution_count": null,
      "outputs": [
        {
          "output_type": "stream",
          "name": "stdout",
          "text": [
            "please give a number : 010101\n",
            "num is binary\n"
          ]
        }
      ]
    }
  ]
}