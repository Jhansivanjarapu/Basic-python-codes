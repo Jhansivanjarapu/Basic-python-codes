{
  "cells": [
    {
      "cell_type": "markdown",
      "metadata": {
        "id": "view-in-github",
        "colab_type": "text"
      },
      "source": [
        "<a href=\"https://colab.research.google.com/github/Jhansivanjarapu/Basic-python-codes/blob/main/Test_4.ipynb\" target=\"_parent\"><img src=\"https://colab.research.google.com/assets/colab-badge.svg\" alt=\"Open In Colab\"/></a>"
      ]
    },
    {
      "cell_type": "code",
      "execution_count": null,
      "metadata": {
        "colab": {
          "base_uri": "https://localhost:8080/"
        },
        "id": "K-p9UEN1JXvO",
        "outputId": "deeed735-6761-4b46-dd5b-3d2912c4a6a1"
      },
      "outputs": [
        {
          "name": "stdout",
          "output_type": "stream",
          "text": [
            "enter a number: 9\n",
            "21 13 8 5 3 2 1 1 0 "
          ]
        }
      ],
      "source": [
        "def reverseFibonacci(n):\n",
        "    a = [0] * n\n",
        "    a[0] = 0\n",
        "    a[1] = 1\n",
        "    for i in range(2, n):\n",
        "        a[i] = a[i - 2] + a[i - 1]\n",
        "    for i in range(n - 1, -1 , -1):\n",
        "        print(a[i],end=\" \")\n",
        "n = int(input(\"enter a number: \"))\n",
        "reverseFibonacci(n)"
      ]
    }
  ],
  "metadata": {
    "colab": {
      "provenance": [],
      "authorship_tag": "ABX9TyNhn/T80CP5R5LMo+4MSAwj",
      "include_colab_link": true
    },
    "kernelspec": {
      "display_name": "Python 3",
      "name": "python3"
    },
    "language_info": {
      "name": "python"
    }
  },
  "nbformat": 4,
  "nbformat_minor": 0
}