{
  "nbformat": 4,
  "nbformat_minor": 0,
  "metadata": {
    "colab": {
      "provenance": [],
      "authorship_tag": "ABX9TyMsYktTilcGXI9DTMazjduy",
      "include_colab_link": true
    },
    "kernelspec": {
      "name": "python3",
      "display_name": "Python 3"
    },
    "language_info": {
      "name": "python"
    }
  },
  "cells": [
    {
      "cell_type": "markdown",
      "metadata": {
        "id": "view-in-github",
        "colab_type": "text"
      },
      "source": [
        "<a href=\"https://colab.research.google.com/github/Jhansivanjarapu/Basic-python-codes/blob/main/Test_25_pynb.ipynb\" target=\"_parent\"><img src=\"https://colab.research.google.com/assets/colab-badge.svg\" alt=\"Open In Colab\"/></a>"
      ]
    },
    {
      "cell_type": "code",
      "execution_count": null,
      "metadata": {
        "colab": {
          "base_uri": "https://localhost:8080/"
        },
        "id": "51hepJY2Dhm_",
        "outputId": "c9767617-77bc-4646-e293-ca57255909e4"
      },
      "outputs": [
        {
          "output_type": "stream",
          "name": "stdout",
          "text": [
            "Enter the size of the array: 7\n",
            "Enter element 1: 3\n",
            "Enter element 2: 5\n",
            "Enter element 3: 9\n",
            "Enter element 4: 5\n",
            "Enter element 5: 4\n",
            "Enter element 6: 6\n",
            "Enter element 7: 9\n",
            "Odd numbers in the array are: 3, 5, 9, 5, 9\n"
          ]
        }
      ],
      "source": [
        "\n",
        "size = int(input(\"Enter the size of the array: \"))\n",
        "array = []\n",
        "for i in range(size):\n",
        "    element = int(input(f\"Enter element {i + 1}: \"))\n",
        "    array.append(element)\n",
        "odd_numbers = []\n",
        "for num in array:\n",
        "    if num % 2 != 0:\n",
        "        odd_numbers.append(num)\n",
        "print(\"Odd numbers in the array are:\", \", \".join(map(str, odd_numbers)))"
      ]
    }
  ]
}