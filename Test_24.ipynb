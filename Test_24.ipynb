{
  "nbformat": 4,
  "nbformat_minor": 0,
  "metadata": {
    "colab": {
      "provenance": [],
      "authorship_tag": "ABX9TyOlpNX959eKpNCm9w19Mevw",
      "include_colab_link": true
    },
    "kernelspec": {
      "name": "python3",
      "display_name": "Python 3"
    },
    "language_info": {
      "name": "python"
    }
  },
  "cells": [
    {
      "cell_type": "markdown",
      "metadata": {
        "id": "view-in-github",
        "colab_type": "text"
      },
      "source": [
        "<a href=\"https://colab.research.google.com/github/Jhansivanjarapu/Basic-python-codes/blob/main/Test_24.ipynb\" target=\"_parent\"><img src=\"https://colab.research.google.com/assets/colab-badge.svg\" alt=\"Open In Colab\"/></a>"
      ]
    },
    {
      "cell_type": "code",
      "source": [
        "print(\"Enter 5 Elements of List: \")\n",
        "nums = []\n",
        "for i in range(5):\n",
        "    nums.insert(i, input())\n",
        "print(\"Enter an Element to Insert at End: \")\n",
        "elem = input()\n",
        "nums.append(elem)\n",
        "print(\"\\nThe New List is: \")\n",
        "print(nums)"
      ],
      "metadata": {
        "colab": {
          "base_uri": "https://localhost:8080/"
        },
        "id": "4UTpLAQ3BTIk",
        "outputId": "afa53d42-75d9-493e-e51f-49b3734b78a7"
      },
      "execution_count": null,
      "outputs": [
        {
          "output_type": "stream",
          "name": "stdout",
          "text": [
            "Enter 5 Elements of List: \n",
            "7\n",
            "6\n",
            "5\n",
            "4\n",
            "3\n",
            "Enter an Element to Insert at End: \n",
            "10\n",
            "\n",
            "The New List is: \n",
            "['7', '6', '5', '4', '3', '10']\n"
          ]
        }
      ]
    }
  ]
}