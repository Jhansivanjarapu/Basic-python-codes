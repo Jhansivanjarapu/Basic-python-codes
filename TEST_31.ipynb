{
  "nbformat": 4,
  "nbformat_minor": 0,
  "metadata": {
    "colab": {
      "provenance": [],
      "authorship_tag": "ABX9TyNR/y98lrOwgiX2LdLeo18s",
      "include_colab_link": true
    },
    "kernelspec": {
      "name": "python3",
      "display_name": "Python 3"
    },
    "language_info": {
      "name": "python"
    }
  },
  "cells": [
    {
      "cell_type": "markdown",
      "metadata": {
        "id": "view-in-github",
        "colab_type": "text"
      },
      "source": [
        "<a href=\"https://colab.research.google.com/github/Jhansivanjarapu/Basic-python-codes/blob/main/TEST_31.ipynb\" target=\"_parent\"><img src=\"https://colab.research.google.com/assets/colab-badge.svg\" alt=\"Open In Colab\"/></a>"
      ]
    },
    {
      "cell_type": "code",
      "execution_count": null,
      "metadata": {
        "colab": {
          "base_uri": "https://localhost:8080/"
        },
        "id": "OypXo6CrINrr",
        "outputId": "24226686-1452-43be-fae5-0cd7f1ad238c"
      },
      "outputs": [
        {
          "output_type": "stream",
          "name": "stdout",
          "text": [
            "Enter number of rows: 4\n",
            "      1 \n",
            "    2 3 2 \n",
            "  3 4 5 4 3 \n",
            "4 5 6 7 6 5 4 \n"
          ]
        }
      ],
      "source": [
        "rows = int(input(\"Enter number of rows: \"))\n",
        "\n",
        "k = 0\n",
        "count=0\n",
        "count1=0\n",
        "\n",
        "for i in range(1, rows+1):\n",
        "    for space in range(1, (rows-i)+1):\n",
        "        print(\"  \", end=\"\")\n",
        "        count+=1\n",
        "\n",
        "    while k!=((2*i)-1):\n",
        "        if count<=rows-1:\n",
        "            print(i+k, end=\" \")\n",
        "            count+=1\n",
        "        else:\n",
        "            count1+=1\n",
        "            print(i+k-(2*count1), end=\" \")\n",
        "        k += 1\n",
        "\n",
        "    count1 = count = k = 0\n",
        "    print()"
      ]
    }
  ]
}