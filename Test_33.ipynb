{
  "nbformat": 4,
  "nbformat_minor": 0,
  "metadata": {
    "colab": {
      "provenance": [],
      "authorship_tag": "ABX9TyOPUD8bCX2cgCgl3uG90Pxs",
      "include_colab_link": true
    },
    "kernelspec": {
      "name": "python3",
      "display_name": "Python 3"
    },
    "language_info": {
      "name": "python"
    }
  },
  "cells": [
    {
      "cell_type": "markdown",
      "metadata": {
        "id": "view-in-github",
        "colab_type": "text"
      },
      "source": [
        "<a href=\"https://colab.research.google.com/github/Jhansivanjarapu/Basic-python-codes/blob/main/Test_33.ipynb\" target=\"_parent\"><img src=\"https://colab.research.google.com/assets/colab-badge.svg\" alt=\"Open In Colab\"/></a>"
      ]
    },
    {
      "cell_type": "code",
      "source": [
        "row = int(input('Enter number of row: '))\n",
        "for i in range(1, row+1):\n",
        "    for j in range(1,row-i+1):\n",
        "        print(\" \", end=\"\")\n",
        "    for j in range(1, 2*i):\n",
        "        print(\"*\", end=\"\")\n",
        "    print()\n",
        "for i in range(row-1,0, -1):\n",
        "    for j in range(1,row-i+1):\n",
        "        print(\" \", end=\"\")\n",
        "    for j in range(1, 2*i):\n",
        "        print(\"*\", end=\"\")\n",
        "    print()"
      ],
      "metadata": {
        "colab": {
          "base_uri": "https://localhost:8080/"
        },
        "id": "_VuIH78agPWV",
        "outputId": "1dc4d394-321b-41c8-a6c1-811079feb336"
      },
      "execution_count": null,
      "outputs": [
        {
          "output_type": "stream",
          "name": "stdout",
          "text": [
            "Enter number of row: 4\n",
            "   *\n",
            "  ***\n",
            " *****\n",
            "*******\n",
            " *****\n",
            "  ***\n",
            "   *\n"
          ]
        }
      ]
    }
  ]
}