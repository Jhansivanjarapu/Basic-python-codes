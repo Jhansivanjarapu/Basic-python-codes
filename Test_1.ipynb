{
  "nbformat": 4,
  "nbformat_minor": 0,
  "metadata": {
    "colab": {
      "provenance": [],
      "authorship_tag": "ABX9TyN5QQthS0D76kQZLZqNgiUR",
      "include_colab_link": true
    },
    "kernelspec": {
      "name": "python3",
      "display_name": "Python 3"
    },
    "language_info": {
      "name": "python"
    }
  },
  "cells": [
    {
      "cell_type": "markdown",
      "metadata": {
        "id": "view-in-github",
        "colab_type": "text"
      },
      "source": [
        "<a href=\"https://colab.research.google.com/github/Jhansivanjarapu/Basic-python-codes/blob/main/Test_1.ipynb\" target=\"_parent\"><img src=\"https://colab.research.google.com/assets/colab-badge.svg\" alt=\"Open In Colab\"/></a>"
      ]
    },
    {
      "cell_type": "code",
      "execution_count": null,
      "metadata": {
        "id": "0SPXtFB-yy4G",
        "colab": {
          "base_uri": "https://localhost:8080/"
        },
        "outputId": "4924b7a8-fe1f-471e-a9bf-12ce179d89f6"
      },
      "outputs": [
        {
          "output_type": "stream",
          "name": "stdout",
          "text": [
            "7! = 7 * 6 * 5 * 4 * 3 * 2 * 1 = 5040\n"
          ]
        }
      ],
      "source": [
        "\n",
        "def factorial(n):\n",
        "    return 1 if n == 0 else n * factorial(n - 1)\n",
        "\n",
        "try:\n",
        "    num = int(input(\"Enter a positive integer: \"))\n",
        "\n",
        "    if num < 0:\n",
        "        print(\"Factorial is not defined for negative numbers.\")\n",
        "    else:\n",
        "        result = factorial(num)\n",
        "        print(f\"{num}! = {' * '.join(map(str, range(num, 0, -1)))} = {result}\")\n",
        "except ValueError:\n",
        "    print(\"Invalid input. Please enter a positive integer.\")"
      ]
    },
    {
      "cell_type": "code",
      "source": [
        "n = int(input(\"enter the number\"))\n",
        "fact = 1\n",
        "while(n>0):\n",
        "  fact = fact*n\n",
        "  n = n-1\n",
        "  print(\"factorial is:\")\n",
        "  print(fact)"
      ],
      "metadata": {
        "colab": {
          "base_uri": "https://localhost:8080/"
        },
        "id": "I7mcr5yEkwt9",
        "outputId": "ae9d343d-7ae3-4f98-cef6-abcb00ba46e4"
      },
      "execution_count": null,
      "outputs": [
        {
          "output_type": "stream",
          "name": "stdout",
          "text": [
            "enter the number5\n",
            "factorial is:\n",
            "5\n",
            "factorial is:\n",
            "20\n",
            "factorial is:\n",
            "60\n",
            "factorial is:\n",
            "120\n",
            "factorial is:\n",
            "120\n"
          ]
        }
      ]
    }
  ]
}