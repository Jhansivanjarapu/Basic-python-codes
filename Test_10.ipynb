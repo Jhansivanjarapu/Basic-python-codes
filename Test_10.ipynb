{
  "nbformat": 4,
  "nbformat_minor": 0,
  "metadata": {
    "colab": {
      "provenance": [],
      "authorship_tag": "ABX9TyN4x3ckD3yNLXTMI8OOUj+0",
      "include_colab_link": true
    },
    "kernelspec": {
      "name": "python3",
      "display_name": "Python 3"
    },
    "language_info": {
      "name": "python"
    }
  },
  "cells": [
    {
      "cell_type": "markdown",
      "metadata": {
        "id": "view-in-github",
        "colab_type": "text"
      },
      "source": [
        "<a href=\"https://colab.research.google.com/github/Jhansivanjarapu/Basic-python-codes/blob/main/Test_10.ipynb\" target=\"_parent\"><img src=\"https://colab.research.google.com/assets/colab-badge.svg\" alt=\"Open In Colab\"/></a>"
      ]
    },
    {
      "cell_type": "code",
      "execution_count": null,
      "metadata": {
        "colab": {
          "base_uri": "https://localhost:8080/"
        },
        "id": "PFZHXTkECFmD",
        "outputId": "a6e9fd1d-5fcf-4bad-8efc-d8b524a70084"
      },
      "outputs": [
        {
          "output_type": "stream",
          "name": "stdout",
          "text": [
            "Enter base nummber:3\n",
            "Enter exponent  number:5\n",
            "243\n"
          ]
        }
      ],
      "source": [
        "baseNumber =int(input(\"Enter base nummber:\"));\n",
        "exponentNumber =int(input(\"Enter exponent  number:\"));\n",
        "result=1;\n",
        "\n",
        "for i in range(1,exponentNumber+1):\n",
        "    result=result*baseNumber\n",
        "\n",
        "print(result)"
      ]
    }
  ]
}