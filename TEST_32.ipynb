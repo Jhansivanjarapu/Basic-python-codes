{
  "nbformat": 4,
  "nbformat_minor": 0,
  "metadata": {
    "colab": {
      "provenance": [],
      "authorship_tag": "ABX9TyNDG5wj8POYUG7aniMyzK9B",
      "include_colab_link": true
    },
    "kernelspec": {
      "name": "python3",
      "display_name": "Python 3"
    },
    "language_info": {
      "name": "python"
    }
  },
  "cells": [
    {
      "cell_type": "markdown",
      "metadata": {
        "id": "view-in-github",
        "colab_type": "text"
      },
      "source": [
        "<a href=\"https://colab.research.google.com/github/Jhansivanjarapu/Basic-python-codes/blob/main/TEST_32.ipynb\" target=\"_parent\"><img src=\"https://colab.research.google.com/assets/colab-badge.svg\" alt=\"Open In Colab\"/></a>"
      ]
    },
    {
      "cell_type": "code",
      "execution_count": null,
      "metadata": {
        "colab": {
          "base_uri": "https://localhost:8080/"
        },
        "id": "EPYEArrwdIUr",
        "outputId": "b969dc51-1c21-4754-d7ca-c577615fdc5c"
      },
      "outputs": [
        {
          "output_type": "stream",
          "name": "stdout",
          "text": [
            "Enter Half Diamond Pattern Rows = 5\n",
            "Half Diamond Star Pattern\n",
            "*\n",
            "**\n",
            "***\n",
            "****\n",
            "*****\n",
            "****\n",
            "***\n",
            "**\n",
            "*\n"
          ]
        }
      ],
      "source": [
        "rows = int(input(\"Enter Half Diamond Pattern Rows = \"))\n",
        "\n",
        "print(\"Half Diamond Star Pattern\")\n",
        "\n",
        "for i in range(rows):\n",
        "    for j in range(0, i + 1):\n",
        "        print('*', end = '')\n",
        "    print()\n",
        "\n",
        "for i in range(1, rows):\n",
        "    for j in range(i, rows):\n",
        "        print('*', end = '')\n",
        "    print()"
      ]
    }
  ]
}