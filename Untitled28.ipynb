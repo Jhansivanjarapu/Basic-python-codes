{
  "nbformat": 4,
  "nbformat_minor": 0,
  "metadata": {
    "colab": {
      "provenance": [],
      "authorship_tag": "ABX9TyOwYcGLEuTzzgq8+InBe17S",
      "include_colab_link": true
    },
    "kernelspec": {
      "name": "python3",
      "display_name": "Python 3"
    },
    "language_info": {
      "name": "python"
    }
  },
  "cells": [
    {
      "cell_type": "markdown",
      "metadata": {
        "id": "view-in-github",
        "colab_type": "text"
      },
      "source": [
        "<a href=\"https://colab.research.google.com/github/Jhansivanjarapu/Basic-python-codes/blob/main/Untitled28.ipynb\" target=\"_parent\"><img src=\"https://colab.research.google.com/assets/colab-badge.svg\" alt=\"Open In Colab\"/></a>"
      ]
    },
    {
      "cell_type": "code",
      "execution_count": null,
      "metadata": {
        "colab": {
          "base_uri": "https://localhost:8080/"
        },
        "id": "wJ04X-mb3CBu",
        "outputId": "ff7aa8bc-fbfb-44f5-e668-8c5b87e4dfba"
      },
      "outputs": [
        {
          "output_type": "stream",
          "name": "stdout",
          "text": [
            "Array after left rotation is:  [3, 4, 5, 6, 7, 1, 2]\n"
          ]
        }
      ],
      "source": [
        "\n",
        "def rotateArray(a,d):\n",
        "    temp = []\n",
        "    n=len(a)\n",
        "    for i in range(d,n):\n",
        "        temp.append(a[i])\n",
        "    i = 0\n",
        "    for i in range (0,d):\n",
        "        temp.append(a[i])\n",
        "    a=temp.copy()\n",
        "    return a\n",
        "\n",
        "arr = [1, 2, 3, 4, 5, 6, 7]\n",
        "print(\"Array after left rotation is: \", end=' ')\n",
        "print(rotateArray(arr, 2))"
      ]
    }
  ]
}