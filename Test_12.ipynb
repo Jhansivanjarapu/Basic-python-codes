{
  "nbformat": 4,
  "nbformat_minor": 0,
  "metadata": {
    "colab": {
      "provenance": [],
      "authorship_tag": "ABX9TyNncDBEBbV0+1Av5g/1c+8G",
      "include_colab_link": true
    },
    "kernelspec": {
      "name": "python3",
      "display_name": "Python 3"
    },
    "language_info": {
      "name": "python"
    }
  },
  "cells": [
    {
      "cell_type": "markdown",
      "metadata": {
        "id": "view-in-github",
        "colab_type": "text"
      },
      "source": [
        "<a href=\"https://colab.research.google.com/github/Jhansivanjarapu/Basic-python-codes/blob/main/Test_12.ipynb\" target=\"_parent\"><img src=\"https://colab.research.google.com/assets/colab-badge.svg\" alt=\"Open In Colab\"/></a>"
      ]
    },
    {
      "cell_type": "code",
      "source": [
        "\n",
        "def find_gcd(x, y):\n",
        "    while y != 0:\n",
        "        x, y = y, x % y\n",
        "    return x\n",
        "def find_lcm(x, y):\n",
        "    gcd = find_gcd(x, y)\n",
        "    lcm = (x * y) // gcd\n",
        "    return lcm\n",
        "num1 = int(input(\"Enter first number: \"))\n",
        "num2 = int(input(\"Enter second number:\"))\n",
        "lcm = find_lcm(num1, num2)\n",
        "print(f\"The LCM of {num1} and {num2} is {lcm}\")"
      ],
      "metadata": {
        "colab": {
          "base_uri": "https://localhost:8080/"
        },
        "id": "20zv_YJ_NGVs",
        "outputId": "526860e9-d6ae-46ce-b02b-e50063d25a32"
      },
      "execution_count": null,
      "outputs": [
        {
          "output_type": "stream",
          "name": "stdout",
          "text": [
            "Enter first number: 8\n",
            "Enter second number:10\n",
            "The LCM of 8 and 10 is 40\n"
          ]
        }
      ]
    }
  ]
}