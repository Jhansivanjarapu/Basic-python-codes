{
  "cells": [
    {
      "cell_type": "markdown",
      "metadata": {
        "id": "view-in-github",
        "colab_type": "text"
      },
      "source": [
        "<a href=\"https://colab.research.google.com/github/Jhansivanjarapu/Basic-python-codes/blob/main/Untitled5.ipynb\" target=\"_parent\"><img src=\"https://colab.research.google.com/assets/colab-badge.svg\" alt=\"Open In Colab\"/></a>"
      ]
    },
    {
      "cell_type": "code",
      "execution_count": null,
      "metadata": {
        "colab": {
          "background_save": true,
          "base_uri": "https://localhost:8080/"
        },
        "id": "nqTkIq-lXzl2",
        "outputId": "55445893-933f-4fcb-c3e5-384cba206139"
      },
      "outputs": [
        {
          "name": "stdout",
          "output_type": "stream",
          "text": [
            "Enter a Number: \n"
          ]
        }
      ],
      "source": [
        "print(\"Enter a Number: \")\n",
        "num = int(input())\n",
        "\n",
        "squareroot = num ** 0.5\n",
        "\n",
        "print(\"\\nSquare Root =\", squareroot)"
      ]
    },
    {
      "cell_type": "code",
      "execution_count": null,
      "metadata": {
        "id": "a30LRIKPYDfc"
      },
      "outputs": [],
      "source": [
        "print(\"Enter a Number: \")\n",
        "num = int(input())\n",
        "\n",
        "squareroot = num ** 0.5\n",
        "\n",
        "print(\"\\nSquare Root =\", squareroot)"
      ]
    }
  ],
  "metadata": {
    "colab": {
      "provenance": [],
      "authorship_tag": "ABX9TyPFphBsGTTB92Cj1ZJN2sw4",
      "include_colab_link": true
    },
    "kernelspec": {
      "display_name": "Python 3",
      "name": "python3"
    },
    "language_info": {
      "name": "python"
    }
  },
  "nbformat": 4,
  "nbformat_minor": 0
}